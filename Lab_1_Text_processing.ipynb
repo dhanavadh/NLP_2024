{
  "cells": [
    {
      "cell_type": "markdown",
      "metadata": {
        "id": "view-in-github",
        "colab_type": "text"
      },
      "source": [
        "<a href=\"https://colab.research.google.com/github/dhanavadh/NLP_2024/blob/main/Lab_1_Text_processing.ipynb\" target=\"_parent\"><img src=\"https://colab.research.google.com/assets/colab-badge.svg\" alt=\"Open In Colab\"/></a>"
      ]
    },
    {
      "cell_type": "markdown",
      "metadata": {
        "id": "04u_qcPwccAe"
      },
      "source": [
        "# Instruction\n",
        "1. อ่าน file ทวิตรีวิวสายการบิน Tweets.csv\n",
        "2. เลือกเฉพาะสายการบิน United\n",
        "3. ทำให้ข้อมูลเหลือเพียง 2 columns คือ\n",
        "   1. ค่าความพึงพอใจ(airline_sentiment)\n",
        "   2. tokenized text ซึ่งคั่นแต่ละ token ด้วย '|' เหมือนในตัวอย่างข้างล่าง\n",
        "\n",
        "`@|united|Thanks|for|taking|care|of|that`\n",
        "\n",
        "4. หาว่าทวิตรีวิวสายการบิน United ส่วนใหญ่เป็นกลาง ลบ หรือบวก?"
      ]
    },
    {
      "cell_type": "code",
      "execution_count": null,
      "metadata": {
        "colab": {
          "base_uri": "https://localhost:8080/"
        },
        "id": "0jaauT-UccAf",
        "outputId": "452ed58a-5a65-4a09-c5e3-7e680d82a4e6"
      },
      "outputs": [
        {
          "name": "stdout",
          "output_type": "stream",
          "text": [
            "Downloading...\n",
            "From: https://drive.google.com/uc?id=1E-iV3nbBZP3mdwlDA9eTrQkFDjiAzsO0\n",
            "To: /content/Tweets.csv\n",
            "100% 3.42M/3.42M [00:00<00:00, 54.3MB/s]\n"
          ]
        }
      ],
      "source": [
        "!gdown --id 1E-iV3nbBZP3mdwlDA9eTrQkFDjiAzsO0"
      ]
    },
    {
      "cell_type": "code",
      "execution_count": null,
      "metadata": {
        "colab": {
          "base_uri": "https://localhost:8080/"
        },
        "id": "etNGQ3U3ccAg",
        "outputId": "936b8cc2-fe33-4b47-c66f-67a189bba38b"
      },
      "outputs": [
        {
          "name": "stdout",
          "output_type": "stream",
          "text": [
            "[nltk_data] Downloading package punkt to /root/nltk_data...\n",
            "[nltk_data]   Unzipping tokenizers/punkt.zip.\n"
          ]
        },
        {
          "data": {
            "text/plain": [
              "True"
            ]
          },
          "execution_count": 7,
          "metadata": {},
          "output_type": "execute_result"
        }
      ],
      "source": [
        "import pandas as pd\n",
        "import nltk\n",
        "nltk.download('punkt')"
      ]
    }
  ],
  "metadata": {
    "colab": {
      "provenance": [],
      "include_colab_link": true
    },
    "kernelspec": {
      "display_name": "Python 3 (ipykernel)",
      "language": "python",
      "name": "python3"
    },
    "language_info": {
      "codemirror_mode": {
        "name": "ipython",
        "version": 3
      },
      "file_extension": ".py",
      "mimetype": "text/x-python",
      "name": "python",
      "nbconvert_exporter": "python",
      "pygments_lexer": "ipython3",
      "version": "3.8.12"
    }
  },
  "nbformat": 4,
  "nbformat_minor": 0
}