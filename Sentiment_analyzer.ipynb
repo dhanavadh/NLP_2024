{
  "cells": [
    {
      "cell_type": "markdown",
      "metadata": {
        "id": "view-in-github",
        "colab_type": "text"
      },
      "source": [
        "<a href=\"https://colab.research.google.com/github/dhanavadh/NLP_2024/blob/main/Sentiment_analyzer.ipynb\" target=\"_parent\"><img src=\"https://colab.research.google.com/assets/colab-badge.svg\" alt=\"Open In Colab\"/></a>"
      ]
    },
    {
      "cell_type": "markdown",
      "metadata": {
        "id": "bli4tZO0J-5a"
      },
      "source": [
        "# Sentiment Analysis with Logistic Regression\n",
        "\n",
        "In this activity, you will\n",
        "\n",
        "- Explore the data to understand the dataset\n",
        "\n",
        "- We want to know what keyword with positive sentiment (5 star reviews) and neutral sentiment (3 star reviews) and negative sentiment (1 star reviews)\n",
        "\n",
        "- We also want to know where the model falls short. Analyze the errors that your model makes\n",
        "\n",
        "\n",
        "** Steps\n",
        "\n",
        "1) Download data\n",
        "2) Open\n",
        "\t- How many rows?\n",
        "\t- How many columns? What are they?\n",
        "3) Preprocess\n",
        "\t- Label 1 star --> negative 3 -->neutral  5--> positive\n",
        "\t- Discard 2 and 4 star reviews\n",
        "4) Split train test (Think how many)\n",
        "5) Make feature vector (vectorize -- CountVectorizer)\n",
        "6) Train logistic regression on training set\n",
        "7) Evaluate on test set\n",
        "8) Predict on test set and add a column to test set\n",
        "     | text | gold standard label | predicted label |\n",
        "     |------|---------------------|-----------------|\n",
        "9) Save to Excel\n",
        "10) Open the prediction file in Excel and find error patterns"
      ]
    },
    {
      "cell_type": "code",
      "execution_count": null,
      "metadata": {
        "id": "yrHFldnfJ-5e"
      },
      "outputs": [],
      "source": [
        "!gdown --id 1UpSJkqHhU7RMQC47Ii-6VZuByPYfhLrj"
      ]
    }
  ],
  "metadata": {
    "language_info": {
      "name": "python"
    },
    "colab": {
      "provenance": [],
      "include_colab_link": true
    }
  },
  "nbformat": 4,
  "nbformat_minor": 0
}