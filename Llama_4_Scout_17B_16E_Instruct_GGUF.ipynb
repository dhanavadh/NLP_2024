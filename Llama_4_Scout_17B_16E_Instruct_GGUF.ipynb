{
  "nbformat": 4,
  "nbformat_minor": 0,
  "metadata": {
    "colab": {
      "machine_shape": "hm",
      "gpuType": "T4",
      "provenance": [],
      "include_colab_link": true
    },
    "accelerator": "GPU",
    "kaggle": {
      "accelerator": "gpu"
    },
    "language_info": {
      "name": "python"
    },
    "kernelspec": {
      "name": "python3",
      "display_name": "Python 3"
    }
  },
  "cells": [
    {
      "cell_type": "markdown",
      "metadata": {
        "id": "view-in-github",
        "colab_type": "text"
      },
      "source": [
        "<a href=\"https://colab.research.google.com/github/dhanavadh/NLP_2024/blob/main/Llama_4_Scout_17B_16E_Instruct_GGUF.ipynb\" target=\"_parent\"><img src=\"https://colab.research.google.com/assets/colab-badge.svg\" alt=\"Open In Colab\"/></a>"
      ]
    },
    {
      "cell_type": "code",
      "source": [
        "!pip install -U llama-cpp-python"
      ],
      "metadata": {
        "id": "u2KbdHj17xUH"
      },
      "execution_count": null,
      "outputs": []
    },
    {
      "cell_type": "markdown",
      "source": [
        "## Local Inference on GPU\n",
        "Model page: https://huggingface.co/unsloth/Llama-4-Scout-17B-16E-Instruct-GGUF\n",
        "\n",
        "⚠️ If the generated code snippets do not work, please open an issue on either the [model repo](https://huggingface.co/unsloth/Llama-4-Scout-17B-16E-Instruct-GGUF)\n",
        "\t\t\tand/or on [huggingface.js](https://github.com/huggingface/huggingface.js/blob/main/packages/tasks/src/model-libraries-snippets.ts) 🙏"
      ],
      "metadata": {
        "id": "j6SmQxnT7xUJ"
      }
    },
    {
      "cell_type": "code",
      "source": [
        "# !pip install llama-cpp-python\n",
        "\n",
        "from llama_cpp import Llama\n",
        "\n",
        "llm = Llama.from_pretrained(\n",
        "\trepo_id=\"unsloth/Llama-4-Scout-17B-16E-Instruct-GGUF\",\n",
        "\tfilename=\"{{GGUF_FILE}}\",\n",
        ")\n"
      ],
      "metadata": {
        "id": "fOPYveVg7xUJ"
      },
      "execution_count": null,
      "outputs": []
    },
    {
      "cell_type": "code",
      "source": [
        "llm.create_chat_completion(\n",
        "\tmessages = [\n",
        "\t\t{\n",
        "\t\t\t\"role\": \"user\",\n",
        "\t\t\t\"content\": [\n",
        "\t\t\t\t{\n",
        "\t\t\t\t\t\"type\": \"text\",\n",
        "\t\t\t\t\t\"text\": \"Describe this image in one sentence.\"\n",
        "\t\t\t\t},\n",
        "\t\t\t\t{\n",
        "\t\t\t\t\t\"type\": \"image_url\",\n",
        "\t\t\t\t\t\"image_url\": {\n",
        "\t\t\t\t\t\t\"url\": \"https://cdn.britannica.com/61/93061-050-99147DCE/Statue-of-Liberty-Island-New-York-Bay.jpg\"\n",
        "\t\t\t\t\t}\n",
        "\t\t\t\t}\n",
        "\t\t\t]\n",
        "\t\t}\n",
        "\t]\n",
        ")"
      ],
      "metadata": {
        "id": "RnJ6BnqD7xUK"
      },
      "execution_count": null,
      "outputs": []
    }
  ]
}