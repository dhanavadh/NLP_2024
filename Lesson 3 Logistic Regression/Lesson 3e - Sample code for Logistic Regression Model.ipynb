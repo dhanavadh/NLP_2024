{
 "cells": [
  {
   "cell_type": "code",
   "execution_count": null,
   "id": "40faca24",
   "metadata": {
    "id": "40faca24",
    "outputId": "83c2cbfa-772c-4e35-f335-08beb67da70e"
   },
   "outputs": [
    {
     "data": {
      "text/html": [
       "<div>\n",
       "<style scoped>\n",
       "    .dataframe tbody tr th:only-of-type {\n",
       "        vertical-align: middle;\n",
       "    }\n",
       "\n",
       "    .dataframe tbody tr th {\n",
       "        vertical-align: top;\n",
       "    }\n",
       "\n",
       "    .dataframe thead th {\n",
       "        text-align: right;\n",
       "    }\n",
       "</style>\n",
       "<table border=\"1\" class=\"dataframe\">\n",
       "  <thead>\n",
       "    <tr style=\"text-align: right;\">\n",
       "      <th></th>\n",
       "      <th>text</th>\n",
       "      <th>label</th>\n",
       "    </tr>\n",
       "  </thead>\n",
       "  <tbody>\n",
       "    <tr>\n",
       "      <th>0</th>\n",
       "      <td>meow meow yawn</td>\n",
       "      <td>cat</td>\n",
       "    </tr>\n",
       "    <tr>\n",
       "      <th>1</th>\n",
       "      <td>nyan yawn ow</td>\n",
       "      <td>cat</td>\n",
       "    </tr>\n",
       "    <tr>\n",
       "      <th>2</th>\n",
       "      <td>yawn woof woof</td>\n",
       "      <td>dog</td>\n",
       "    </tr>\n",
       "    <tr>\n",
       "      <th>3</th>\n",
       "      <td>hong ow</td>\n",
       "      <td>dog</td>\n",
       "    </tr>\n",
       "    <tr>\n",
       "      <th>4</th>\n",
       "      <td>yawn ow</td>\n",
       "      <td>camel</td>\n",
       "    </tr>\n",
       "    <tr>\n",
       "      <th>5</th>\n",
       "      <td>hong ow</td>\n",
       "      <td>camel</td>\n",
       "    </tr>\n",
       "    <tr>\n",
       "      <th>6</th>\n",
       "      <td>woof hong</td>\n",
       "      <td>dog</td>\n",
       "    </tr>\n",
       "    <tr>\n",
       "      <th>7</th>\n",
       "      <td>nyan hong</td>\n",
       "      <td>dog</td>\n",
       "    </tr>\n",
       "  </tbody>\n",
       "</table>\n",
       "</div>"
      ],
      "text/plain": [
       "             text  label\n",
       "0  meow meow yawn    cat\n",
       "1    nyan yawn ow    cat\n",
       "2  yawn woof woof    dog\n",
       "3         hong ow    dog\n",
       "4         yawn ow  camel\n",
       "5         hong ow  camel\n",
       "6       woof hong    dog\n",
       "7       nyan hong    dog"
      ]
     },
     "execution_count": 1,
     "metadata": {},
     "output_type": "execute_result"
    }
   ],
   "source": [
    "import pandas as pd\n",
    "data = pd.DataFrame({\n",
    "    'text': ['meow meow yawn', 'nyan yawn ow', 'yawn woof woof', 'hong ow', 'yawn ow', 'hong ow', 'woof hong', 'nyan hong'] ,\n",
    "    'label': ['cat', 'cat', 'dog', 'dog', 'camel', 'camel', 'dog', 'dog'] \n",
    "})\n",
    "data"
   ]
  },
  {
   "cell_type": "code",
   "execution_count": null,
   "id": "501e830f",
   "metadata": {
    "id": "501e830f",
    "outputId": "9d079d06-93f7-494f-9227-1ced000fb3b6"
   },
   "outputs": [
    {
     "name": "stdout",
     "output_type": "stream",
     "text": [
      "              precision    recall  f1-score   support\n",
      "\n",
      "       camel       1.00      0.73      0.84        11\n",
      "         cat       1.00      1.00      1.00         9\n",
      "         dog       0.87      1.00      0.93        20\n",
      "\n",
      "    accuracy                           0.93        40\n",
      "   macro avg       0.96      0.91      0.92        40\n",
      "weighted avg       0.93      0.93      0.92        40\n",
      "\n"
     ]
    }
   ],
   "source": [
    "import pandas as pd\n",
    "from sklearn.feature_extraction import CountVectorizer\n",
    "from nltk import word_tokenize\n",
    "from sklearn.linear_model import LogisticRegression\n",
    "from sklearn.model_selection import train_test_split\n",
    "from sklearn.metrics import classification_report\n",
    "\n",
    "# Load data\n",
    "data = pd.DataFrame({\n",
    "    'text': ['meow meow yawn', 'nyan yawn ow', 'yawn woof woof', 'hong ow', 'yawn ow', 'hong ow', 'woof hong', 'nyan hong'] * 50,\n",
    "    'label': ['cat','cat', 'dog', 'dog', 'camel', 'camel', 'dog','dog'] * 50\n",
    "})\n",
    "\n",
    "# Prepare data\n",
    "train, dev_test = train_test_split(data, train_size=0.8, random_state=140)\n",
    "dev, test = train_test_split(dev_test, test_size=0.5, random_state=140)\n",
    "\n",
    "vectorizer = CountVectorizer()\n",
    "train_feature_vectors = vectorizer.fit_transform(train['text'])\n",
    "\n",
    "# Train model\n",
    "lr_text_classifier = LogisticRegression()\n",
    "lr_text_classifier.fit(train_feature_vectors, train['label'])\n",
    "\n",
    "# Evaluation\n",
    "dev_feature_vectors = vectorizer.transform(dev['text'])\n",
    "dev_predictions = lr_text_classifier.predict(dev_feature_vectors)\n",
    "print (classification_report(dev_predictions, dev['label']))"
   ]
  },
  {
   "cell_type": "code",
   "execution_count": null,
   "id": "c575d7c9",
   "metadata": {
    "id": "c575d7c9"
   },
   "outputs": [],
   "source": [
    "weights = pd.DataFrame(lr_text_classifier.coef_, \n",
    "                       columns=vectorizer.feature_names_, \n",
    "                       index=lr_text_classifier.classes_)"
   ]
  },
  {
   "cell_type": "code",
   "execution_count": null,
   "id": "11529b00",
   "metadata": {
    "id": "11529b00",
    "outputId": "2230b6ce-8354-4e1a-fce7-072364e3332d"
   },
   "outputs": [
    {
     "data": {
      "text/html": [
       "<div>\n",
       "<style scoped>\n",
       "    .dataframe tbody tr th:only-of-type {\n",
       "        vertical-align: middle;\n",
       "    }\n",
       "\n",
       "    .dataframe tbody tr th {\n",
       "        vertical-align: top;\n",
       "    }\n",
       "\n",
       "    .dataframe thead th {\n",
       "        text-align: right;\n",
       "    }\n",
       "</style>\n",
       "<table border=\"1\" class=\"dataframe\">\n",
       "  <thead>\n",
       "    <tr style=\"text-align: right;\">\n",
       "      <th></th>\n",
       "      <th>hong</th>\n",
       "      <th>meow</th>\n",
       "      <th>nyan</th>\n",
       "      <th>ow</th>\n",
       "      <th>woof</th>\n",
       "      <th>yawn</th>\n",
       "    </tr>\n",
       "  </thead>\n",
       "  <tbody>\n",
       "    <tr>\n",
       "      <th>camel</th>\n",
       "      <td>-0.162228</td>\n",
       "      <td>-1.061361</td>\n",
       "      <td>-2.524037</td>\n",
       "      <td>2.133489</td>\n",
       "      <td>-1.018174</td>\n",
       "      <td>0.161942</td>\n",
       "    </tr>\n",
       "    <tr>\n",
       "      <th>cat</th>\n",
       "      <td>-1.348017</td>\n",
       "      <td>2.408819</td>\n",
       "      <td>2.541501</td>\n",
       "      <td>-0.360179</td>\n",
       "      <td>-1.091205</td>\n",
       "      <td>1.347700</td>\n",
       "    </tr>\n",
       "    <tr>\n",
       "      <th>dog</th>\n",
       "      <td>1.510244</td>\n",
       "      <td>-1.347458</td>\n",
       "      <td>-0.017464</td>\n",
       "      <td>-1.773311</td>\n",
       "      <td>2.109379</td>\n",
       "      <td>-1.509642</td>\n",
       "    </tr>\n",
       "  </tbody>\n",
       "</table>\n",
       "</div>"
      ],
      "text/plain": [
       "           hong      meow      nyan        ow      woof      yawn\n",
       "camel -0.162228 -1.061361 -2.524037  2.133489 -1.018174  0.161942\n",
       "cat   -1.348017  2.408819  2.541501 -0.360179 -1.091205  1.347700\n",
       "dog    1.510244 -1.347458 -0.017464 -1.773311  2.109379 -1.509642"
      ]
     },
     "execution_count": 4,
     "metadata": {},
     "output_type": "execute_result"
    }
   ],
   "source": [
    "weights"
   ]
  },
  {
   "cell_type": "code",
   "execution_count": null,
   "id": "9980e0cf",
   "metadata": {
    "id": "9980e0cf",
    "outputId": "6f204901-fa19-459c-d19a-434578f7836c"
   },
   "outputs": [
    {
     "data": {
      "text/html": [
       "<div>\n",
       "<style scoped>\n",
       "    .dataframe tbody tr th:only-of-type {\n",
       "        vertical-align: middle;\n",
       "    }\n",
       "\n",
       "    .dataframe tbody tr th {\n",
       "        vertical-align: top;\n",
       "    }\n",
       "\n",
       "    .dataframe thead th {\n",
       "        text-align: right;\n",
       "    }\n",
       "</style>\n",
       "<table border=\"1\" class=\"dataframe\">\n",
       "  <thead>\n",
       "    <tr style=\"text-align: right;\">\n",
       "      <th></th>\n",
       "      <th>camel</th>\n",
       "      <th>cat</th>\n",
       "      <th>dog</th>\n",
       "    </tr>\n",
       "  </thead>\n",
       "  <tbody>\n",
       "    <tr>\n",
       "      <th>hong</th>\n",
       "      <td>-0.162228</td>\n",
       "      <td>-1.348017</td>\n",
       "      <td>1.510244</td>\n",
       "    </tr>\n",
       "    <tr>\n",
       "      <th>meow</th>\n",
       "      <td>-1.061361</td>\n",
       "      <td>2.408819</td>\n",
       "      <td>-1.347458</td>\n",
       "    </tr>\n",
       "    <tr>\n",
       "      <th>nyan</th>\n",
       "      <td>-2.524037</td>\n",
       "      <td>2.541501</td>\n",
       "      <td>-0.017464</td>\n",
       "    </tr>\n",
       "    <tr>\n",
       "      <th>ow</th>\n",
       "      <td>2.133489</td>\n",
       "      <td>-0.360179</td>\n",
       "      <td>-1.773311</td>\n",
       "    </tr>\n",
       "    <tr>\n",
       "      <th>woof</th>\n",
       "      <td>-1.018174</td>\n",
       "      <td>-1.091205</td>\n",
       "      <td>2.109379</td>\n",
       "    </tr>\n",
       "    <tr>\n",
       "      <th>yawn</th>\n",
       "      <td>0.161942</td>\n",
       "      <td>1.347700</td>\n",
       "      <td>-1.509642</td>\n",
       "    </tr>\n",
       "  </tbody>\n",
       "</table>\n",
       "</div>"
      ],
      "text/plain": [
       "         camel       cat       dog\n",
       "hong -0.162228 -1.348017  1.510244\n",
       "meow -1.061361  2.408819 -1.347458\n",
       "nyan -2.524037  2.541501 -0.017464\n",
       "ow    2.133489 -0.360179 -1.773311\n",
       "woof -1.018174 -1.091205  2.109379\n",
       "yawn  0.161942  1.347700 -1.509642"
      ]
     },
     "execution_count": 5,
     "metadata": {},
     "output_type": "execute_result"
    }
   ],
   "source": [
    "weights.transpose()"
   ]
  },
  {
   "cell_type": "code",
   "execution_count": null,
   "id": "69655052",
   "metadata": {
    "id": "69655052",
    "outputId": "414fa2bd-5db1-45d9-ab30-d199b86a2ed7"
   },
   "outputs": [
    {
     "data": {
      "text/html": [
       "<div>\n",
       "<style scoped>\n",
       "    .dataframe tbody tr th:only-of-type {\n",
       "        vertical-align: middle;\n",
       "    }\n",
       "\n",
       "    .dataframe tbody tr th {\n",
       "        vertical-align: top;\n",
       "    }\n",
       "\n",
       "    .dataframe thead th {\n",
       "        text-align: right;\n",
       "    }\n",
       "</style>\n",
       "<table border=\"1\" class=\"dataframe\">\n",
       "  <thead>\n",
       "    <tr style=\"text-align: right;\">\n",
       "      <th></th>\n",
       "      <th>camel</th>\n",
       "      <th>cat</th>\n",
       "      <th>dog</th>\n",
       "    </tr>\n",
       "  </thead>\n",
       "  <tbody>\n",
       "    <tr>\n",
       "      <th>ow</th>\n",
       "      <td>2.133489</td>\n",
       "      <td>-0.360179</td>\n",
       "      <td>-1.773311</td>\n",
       "    </tr>\n",
       "    <tr>\n",
       "      <th>yawn</th>\n",
       "      <td>0.161942</td>\n",
       "      <td>1.347700</td>\n",
       "      <td>-1.509642</td>\n",
       "    </tr>\n",
       "    <tr>\n",
       "      <th>hong</th>\n",
       "      <td>-0.162228</td>\n",
       "      <td>-1.348017</td>\n",
       "      <td>1.510244</td>\n",
       "    </tr>\n",
       "    <tr>\n",
       "      <th>woof</th>\n",
       "      <td>-1.018174</td>\n",
       "      <td>-1.091205</td>\n",
       "      <td>2.109379</td>\n",
       "    </tr>\n",
       "    <tr>\n",
       "      <th>meow</th>\n",
       "      <td>-1.061361</td>\n",
       "      <td>2.408819</td>\n",
       "      <td>-1.347458</td>\n",
       "    </tr>\n",
       "    <tr>\n",
       "      <th>nyan</th>\n",
       "      <td>-2.524037</td>\n",
       "      <td>2.541501</td>\n",
       "      <td>-0.017464</td>\n",
       "    </tr>\n",
       "  </tbody>\n",
       "</table>\n",
       "</div>"
      ],
      "text/plain": [
       "         camel       cat       dog\n",
       "ow    2.133489 -0.360179 -1.773311\n",
       "yawn  0.161942  1.347700 -1.509642\n",
       "hong -0.162228 -1.348017  1.510244\n",
       "woof -1.018174 -1.091205  2.109379\n",
       "meow -1.061361  2.408819 -1.347458\n",
       "nyan -2.524037  2.541501 -0.017464"
      ]
     },
     "execution_count": 6,
     "metadata": {},
     "output_type": "execute_result"
    }
   ],
   "source": [
    "weights.transpose().sort_values('camel', ascending=False)"
   ]
  },
  {
   "cell_type": "code",
   "execution_count": null,
   "id": "d190fbb6",
   "metadata": {
    "id": "d190fbb6",
    "outputId": "e6e363b9-ec83-42b8-8fef-0f1eff87e1ad"
   },
   "outputs": [
    {
     "data": {
      "text/plain": [
       "camel   -2.524037\n",
       "cat      2.541501\n",
       "dog     -0.017464\n",
       "Name: nyan, dtype: float64"
      ]
     },
     "execution_count": 7,
     "metadata": {},
     "output_type": "execute_result"
    }
   ],
   "source": [
    "weights.transpose().loc['nyan']"
   ]
  },
  {
   "cell_type": "code",
   "execution_count": null,
   "id": "433e93e0",
   "metadata": {
    "id": "433e93e0"
   },
   "outputs": [],
   "source": [
    "weights.to_excel('weight_animals.xlsx')"
   ]
  },
  {
   "cell_type": "code",
   "execution_count": null,
   "id": "46314f68",
   "metadata": {
    "id": "46314f68",
    "outputId": "358315cb-b126-46c5-9d46-f075aabbe9d0"
   },
   "outputs": [
    {
     "data": {
      "text/html": [
       "<div>\n",
       "<style scoped>\n",
       "    .dataframe tbody tr th:only-of-type {\n",
       "        vertical-align: middle;\n",
       "    }\n",
       "\n",
       "    .dataframe tbody tr th {\n",
       "        vertical-align: top;\n",
       "    }\n",
       "\n",
       "    .dataframe thead th {\n",
       "        text-align: right;\n",
       "    }\n",
       "</style>\n",
       "<table border=\"1\" class=\"dataframe\">\n",
       "  <thead>\n",
       "    <tr style=\"text-align: right;\">\n",
       "      <th></th>\n",
       "      <th>0</th>\n",
       "    </tr>\n",
       "  </thead>\n",
       "  <tbody>\n",
       "    <tr>\n",
       "      <th>camel</th>\n",
       "      <td>-0.395317</td>\n",
       "    </tr>\n",
       "    <tr>\n",
       "      <th>cat</th>\n",
       "      <td>-1.406633</td>\n",
       "    </tr>\n",
       "    <tr>\n",
       "      <th>dog</th>\n",
       "      <td>1.801951</td>\n",
       "    </tr>\n",
       "  </tbody>\n",
       "</table>\n",
       "</div>"
      ],
      "text/plain": [
       "              0\n",
       "camel -0.395317\n",
       "cat   -1.406633\n",
       "dog    1.801951"
      ]
     },
     "execution_count": 9,
     "metadata": {},
     "output_type": "execute_result"
    }
   ],
   "source": [
    "pd.DataFrame(lr_text_classifier.intercept_, index=lr_text_classifier.classes_)"
   ]
  }
 ],
 "metadata": {
  "colab": {
   "provenance": []
  },
  "kernelspec": {
   "display_name": "Python 3 (ipykernel)",
   "language": "python",
   "name": "python3"
  },
  "language_info": {
   "codemirror_mode": {
    "name": "ipython",
    "version": 3
   },
   "file_extension": ".py",
   "mimetype": "text/x-python",
   "name": "python",
   "nbconvert_exporter": "python",
   "pygments_lexer": "ipython3",
   "version": "3.8.12"
  }
 },
 "nbformat": 4,
 "nbformat_minor": 5
}
